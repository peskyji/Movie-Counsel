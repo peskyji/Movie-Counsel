{
 "cells": [
  {
   "cell_type": "code",
   "execution_count": null,
   "metadata": {},
   "outputs": [],
   "source": [
    "import pandas as pd\n",
    "import numpy as np\n",
    "from imdb import Cinemagoer"
   ]
  },
  {
   "cell_type": "code",
   "execution_count": null,
   "metadata": {},
   "outputs": [],
   "source": [
    "movies_df = pd.read_csv(\"final_dataset_8k.csv\")\n",
    "movies_df"
   ]
  },
  {
   "cell_type": "code",
   "execution_count": null,
   "metadata": {},
   "outputs": [],
   "source": [
    "movies_df.drop(columns = ['stemmed_movie_tags', 'movie_tags'], inplace=True)\n",
    "movies_df"
   ]
  },
  {
   "cell_type": "code",
   "execution_count": null,
   "metadata": {},
   "outputs": [],
   "source": [
    "# ia = Cinemagoer()\n",
    "# movie_details = ia.get_movie('10872600').data\n",
    "# movie_details['plot']\n",
    "# movie_details['cast'][0].values()[0]\n",
    "# movie_details['director'][0].values()[0]\n",
    "# movie_details['writer'][2]"
   ]
  },
  {
   "cell_type": "code",
   "execution_count": null,
   "metadata": {},
   "outputs": [],
   "source": [
    "# ans=\"\"\n",
    "# for i in range(len(movie_details['cast'])):\n",
    "#       if i==4:\n",
    "#         ans += f\"{movie_details['cast'][i].values()[0]}\"\n",
    "#         break\n",
    "#       else:\n",
    "#         ans += f\"{movie_details['cast'][i].values()[0]}, \"\n",
    "# ans"
   ]
  },
  {
   "cell_type": "code",
   "execution_count": null,
   "metadata": {},
   "outputs": [],
   "source": [
    "# movies_df[movies_df.name.str.contains(\"Shutter\")]"
   ]
  },
  {
   "cell_type": "code",
   "execution_count": null,
   "metadata": {},
   "outputs": [],
   "source": [
    "ia = Cinemagoer()\n",
    "\n",
    "movies_df[['kind']] = np.nan\n",
    "movies_df[['genre']] = np.nan\n",
    "movies_df[['rating']] = np.nan\n",
    "movies_df[['country']] = np.nan\n",
    "movies_df[['duration']] = np.nan\n",
    "movies_df[['cover_url']] = np.nan\n",
    "movies_df[['trailer']] = np.nan\n",
    "movies_df[['short_desc']] = np.nan\n",
    "movies_df[['description']] = np.nan\n",
    "movies_df[['languages']] = np.nan\n",
    "movies_df[['directors']] = np.nan\n",
    "movies_df[['stars']] = np.nan\n",
    "\n",
    "\n",
    "for i in range(movies_df.shape[0]):\n",
    "  print(i, end=\", \")\n",
    "  id = movies_df.id.iloc[i][2:]\n",
    "  try:\n",
    "    movie_details = ia.get_movie(id).data\n",
    "  except:\n",
    "    pass\n",
    "  try:\n",
    "    movies_df.genre.iloc[i] = \", \".join(movie_details['genres'])\n",
    "  except:\n",
    "    pass\n",
    "  try:\n",
    "    movies_df.year.iloc[i] = movie_details['year']\n",
    "  except:\n",
    "    pass\n",
    "  try:\n",
    "    movies_df.rating.iloc[i] = movie_details['rating']\n",
    "  except:\n",
    "    pass\n",
    "  try:\n",
    "    movies_df.duration.iloc[i] = movie_details['runtimes'][0]\n",
    "  except:\n",
    "    pass\n",
    "  try:\n",
    "    movies_df.country.iloc[i] = \", \".join(movie_details['countries'])\n",
    "  except:\n",
    "    pass\n",
    "  try:\n",
    "    movies_df.kind.iloc[i] = movie_details['kind']\n",
    "  except:\n",
    "    pass\n",
    "  try:\n",
    "    movies_df.cover_url.iloc[i] = movie_details['cover url']\n",
    "  except:\n",
    "    pass\n",
    "  try:\n",
    "    movies_df.description.iloc[i] = movie_details['plot'][0]\n",
    "  except:\n",
    "    pass\n",
    "  try:\n",
    "    movies_df.short_desc.iloc[i] = movie_details['plot outline']\n",
    "  except:\n",
    "    pass\n",
    "  try:\n",
    "    movies_df.trailer.iloc[i] = movie_details['videos'][0]\n",
    "  except:\n",
    "    pass\n",
    "  try:\n",
    "    movies_df.languages.iloc[i] = (movie_details['languages'][0])\n",
    "  except:\n",
    "    pass\n",
    "  try:\n",
    "    ans=\"\"\n",
    "    for x in range(len(movie_details['director'])):\n",
    "      if x==4:\n",
    "        ans += f\"{movie_details['director'][x].values()[0]}\"\n",
    "        break\n",
    "      else:\n",
    "        ans += f\"{movie_details['director'][x].values()[0]}, \"\n",
    "    movies_df.directors.iloc[i] = ans\n",
    "  except:\n",
    "    pass\n",
    "  try:\n",
    "    ans=\"\"\n",
    "    for x in range(len(movie_details['cast'])):\n",
    "      if x==4:\n",
    "        ans += f\"{movie_details['cast'][x].values()[0]}\"\n",
    "        break\n",
    "      else:\n",
    "        ans += f\"{movie_details['cast'][x].values()[0]}, \"\n",
    "    movies_df.stars.iloc[i] = ans\n",
    "  except:\n",
    "    pass"
   ]
  },
  {
   "cell_type": "code",
   "execution_count": null,
   "metadata": {},
   "outputs": [],
   "source": [
    "# movies_df.iloc[5369]"
   ]
  }
 ],
 "metadata": {
  "kernelspec": {
   "display_name": "Python 3",
   "language": "python",
   "name": "python3"
  },
  "language_info": {
   "codemirror_mode": {
    "name": "ipython",
    "version": 3
   },
   "file_extension": ".py",
   "mimetype": "text/x-python",
   "name": "python",
   "nbconvert_exporter": "python",
   "pygments_lexer": "ipython3",
   "version": "3.10.12"
  },
  "orig_nbformat": 4
 },
 "nbformat": 4,
 "nbformat_minor": 2
}
